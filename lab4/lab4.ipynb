{
  "nbformat": 4,
  "nbformat_minor": 0,
  "metadata": {
    "colab": {
      "provenance": [],
      "authorship_tag": "ABX9TyMf7gs7w7djo1SqSFLClR6W",
      "include_colab_link": true
    },
    "kernelspec": {
      "name": "python3",
      "display_name": "Python 3"
    },
    "language_info": {
      "name": "python"
    }
  },
  "cells": [
    {
      "cell_type": "markdown",
      "metadata": {
        "id": "view-in-github",
        "colab_type": "text"
      },
      "source": [
        "<a href=\"https://colab.research.google.com/github/alinaiil/ITMO-applied-mathematics-4sem/blob/main/lab4.ipynb\" target=\"_parent\"><img src=\"https://colab.research.google.com/assets/colab-badge.svg\" alt=\"Open In Colab\"/></a>"
      ]
    },
    {
      "cell_type": "markdown",
      "source": [
        "Выполнила: Ильясова Алина\n",
        "\n",
        "Группа: М32021\n",
        "\n",
        "---\n",
        "\n",
        "Лабораторная работа #4\n",
        "\"Методы решения СЛАУ\"\n",
        "\n",
        "Данная лабораторная работа рассматривает прямые и итерационные методы решения СЛАУ, а также конкретные примеры работы этих методов на системах, сгенерированных разными алгоритмами.\n",
        "Прямые методы решения СЛАУ используют матричные преобразования, в данной лабораторной работе будут рассмотрены метод Гаусса и метод LU-разложения. Итерационные методы решения СЛАУ не находят точное решение за конечное число шагов, а ищут приближение некоторой точности, итерация за итерацией улучшая предыдущую догадку."
      ],
      "metadata": {
        "id": "_YbVMcC71EN2"
      }
    },
    {
      "cell_type": "markdown",
      "source": [
        "Для начала сгенерируем матрицы, которые будут представлять собой набор коэффициентов при \"иксах\" нашей СЛАУ. В тексте условия лабораторной работы представлено два метода генерации таких матриц: генерация матриц Гильберта и генерация матриц с использованием сумм строк и рандомайзера. Алгоритм их построения:\n",
        "\n",
        "\n",
        "\n",
        "1.   Матрицы Гильберта:\n",
        "\n",
        "$a_{ij}=\\frac{1}{i+j-1}$, где $i, j = 1, ..., n$\n",
        "\n",
        "2.   Матрицы с использованием сумм строк и рандомайзера:\n",
        "\n",
        "$a_{ij}=\\{-4, -3, -2, -1, \\ 0\\}$, где $i≠j$\n",
        "\n",
        "$\\begin{equation*}\n",
        "a_{ii}=\n",
        " \\begin{cases}\n",
        "  -∑_{i≠j}a_{ij} \\ \\ \\ \\ \\ \\ \\ \\ \\ \\ \\ \\ \\ \\ \\ \\ \\ \\ \\ \\ if \\ \\ \\ i > 1\n",
        "  \\\\\n",
        "  -∑_{i≠j}a_{ij}+10^{-k} \\ \\ \\ \\ \\ \\ \\ if \\ \\ \\ i = 1,\n",
        " \\end{cases}\n",
        "\\end{equation*}$\n",
        "\n",
        "сумма вычисляется только по строке."
      ],
      "metadata": {
        "id": "vZZkRlXA146T"
      }
    },
    {
      "cell_type": "markdown",
      "source": [
        "Также сразу построим алгоритм нахождения изначально известных решений системы: просто целые числа от 1 до $n$ по порядку, а также правых частей уравнений системы: результат умножения коэффициентов из конкретной строки сгенерированной матрицы на значения ответов из вектора $x$ и последующего сложения значений этих произведений между собой. Для метода Гаусса создадим функцию-заготовку, которая будет склеивать матрицу коэффициентов с вектором правой части уравнений."
      ],
      "metadata": {
        "id": "jDtzNxfA6lK-"
      }
    },
    {
      "cell_type": "code",
      "execution_count": null,
      "metadata": {
        "id": "qvpS1OynB9dr"
      },
      "outputs": [],
      "source": [
        "import numpy as np\n",
        "import matplotlib.pyplot as plt\n",
        "import random as rnd\n",
        "import numpy.linalg as lg\n",
        "\n",
        "def hilbert(n):\n",
        "  m = np.array([[0.0]*n]*n)\n",
        "  for i in range(1, n + 1):\n",
        "    for j in range(1, n + 1):\n",
        "      m[i - 1][j - 1] = 1.0 / (i + j - 1.0)\n",
        "  return m\n",
        "\n",
        "def matrix(k):\n",
        "  m = np.array([[0.0]*k]*k)\n",
        "  for i in range(k):\n",
        "    for j in range(k):\n",
        "      if (i != j):\n",
        "        m[i][j] = rnd.randint(-4, 0)\n",
        "  for i in range(k):\n",
        "    m[i][i] = -1.0 * np.sum(m[i])\n",
        "    if (i == 0):\n",
        "      m[i][i] += pow(10, -1*k)\n",
        "  return m\n",
        "\n",
        "def x_initial(n):\n",
        "  return np.arange(1, n+1)\n",
        "\n",
        "def fx(n, matrix, x):\n",
        "  f = np.array([0.0]*n)\n",
        "  for i in range(n):\n",
        "    for j in range(n):\n",
        "      f[i] += matrix[i][j] * x[j]\n",
        "  return f\n",
        "\n",
        "def create_test_matrix(arr, f):\n",
        "  matrix = np.array([[0.0]*(len(arr) + 1)]*len(arr))\n",
        "  for i in range(len(arr)):\n",
        "    for j in range(len(arr) + 1):\n",
        "      if (j < len(arr)):\n",
        "        matrix[i][j] = arr[i][j]\n",
        "      else:\n",
        "        matrix[i][j] = f[i]\n",
        "  return matrix"
      ]
    },
    {
      "cell_type": "markdown",
      "source": [
        "Стоит сразу отметить, что матрицы, генерируемые с помощью этих алгоритмов, не очень устойчивые. Достаточно взглянуть на их числа обусловленности даже для сравнительно небольших n, чтобы это понять."
      ],
      "metadata": {
        "id": "ambokTWx9tr-"
      }
    },
    {
      "cell_type": "code",
      "source": [
        "a = matrix(10)\n",
        "print('k_matrix_10 =', lg.cond(a))\n",
        "a = matrix(14)\n",
        "print('k_matrix_14 =', lg.cond(a))\n",
        "a = matrix(50)\n",
        "print('k_matrix_50 =', lg.cond(a))\n",
        "print()\n",
        "a = hilbert(10)\n",
        "print('k_hilbert_10 =', lg.cond(a))\n",
        "a = hilbert(14)\n",
        "print('k_hilbert_14 =', lg.cond(a))\n",
        "a = hilbert(50)\n",
        "print('k_hilbert_50 =', lg.cond(a))\n",
        "\n",
        "matrix_k = []\n",
        "hilbert_k = []\n",
        "for i in range(50):\n",
        "  matrix_k.append(lg.cond(matrix(i + 1)))\n",
        "  hilbert_k.append(lg.cond(hilbert(i + 1)))\n",
        "\n",
        "fig = plt.figure()\n",
        "ax1 = fig.add_subplot(221)\n",
        "plt.ylabel('$k$')\n",
        "plt.xlabel('$n$')\n",
        "plt.plot(range(1, 51), matrix_k, color=\"green\")\n",
        "plt.grid()\n",
        "ax2 = fig.add_subplot(222)\n",
        "plt.ylabel('$k$')\n",
        "plt.xlabel('$n$')\n",
        "plt.plot(range(1, 51), hilbert_k, color=\"orange\")\n",
        "plt.grid()\n",
        "ax1.title.set_text('$k$: matrix')\n",
        "ax2.title.set_text('$k$: hilbert')\n",
        "\n",
        "plt.show()"
      ],
      "metadata": {
        "colab": {
          "base_uri": "https://localhost:8080/",
          "height": 391
        },
        "id": "VIqkeV0z99ZG",
        "outputId": "51c58432-2bb9-4571-b3a1-7ac33de615c6"
      },
      "execution_count": null,
      "outputs": [
        {
          "output_type": "stream",
          "name": "stdout",
          "text": [
            "k_matrix_10 = 2401694259225.432\n",
            "k_matrix_14 = 8.755342600065259e+16\n",
            "k_matrix_50 = 3.2006532636403664e+16\n",
            "\n",
            "k_hilbert_10 = 16024416987428.36\n",
            "k_hilbert_14 = 6.200786281355982e+17\n",
            "k_hilbert_50 = 2.3756325491900666e+19\n"
          ]
        },
        {
          "output_type": "display_data",
          "data": {
            "text/plain": [
              "<Figure size 640x480 with 2 Axes>"
            ],
            "image/png": "[encoded data removed]"
          },
          "metadata": {}
        }
      ]
    },
    {
      "cell_type": "markdown",
      "source": [
        "Можно получать чуть более устойчивые матрицы, немного модифицировав алгоритм, в котором мы использовали суммы по строкам и рандомайзер. Теперь он будет выглядеть так:\n",
        "\n",
        "$a_{ij}=\\{-4, -3, -2, -1, \\ 0\\}$, где $i≠j$\n",
        "\n",
        "$a_{ii}=-∑_{i≠j}a_{ij}+10^{-i}$, где $i=1,2,...,k$"
      ],
      "metadata": {
        "id": "zbRTNPNx-LRG"
      }
    },
    {
      "cell_type": "code",
      "source": [
        "\n",
        "def matrix_small_k(k):\n",
        "  m = np.array([[0.0]*k]*k)\n",
        "  for i in range(k):\n",
        "    for j in range(k):\n",
        "      if (i != j):\n",
        "        m[i][j] = rnd.randint(-4, 0)\n",
        "  for i in range(k):\n",
        "    m[i][i] = -1.0 * np.sum(m[i]) + pow(10, -1*(i+1))\n",
        "  return m"
      ],
      "metadata": {
        "id": "44iaHU0F-zMm"
      },
      "execution_count": null,
      "outputs": []
    },
    {
      "cell_type": "markdown",
      "source": [
        "Тогда значения числа обусловленности станут гораздо меньше."
      ],
      "metadata": {
        "id": "cPQBStED_NmZ"
      }
    },
    {
      "cell_type": "code",
      "source": [
        "a = matrix_small_k(10)\n",
        "print(\"k_matrix_small_k_10 =\", lg.cond(a))\n",
        "a = matrix_small_k(14)\n",
        "print(\"k_matrix_small_k_14 =\", lg.cond(a))\n",
        "a = matrix_small_k(50)\n",
        "print(\"k_matrix_small_k_50 =\", lg.cond(a))\n",
        "\n",
        "matrix_small_k_k = []\n",
        "for i in range(50):\n",
        "  matrix_small_k_k.append(lg.cond(matrix_small_k(i + 1)))\n",
        "plt.title(\"$k$: matrix_small_k\")\n",
        "ax = plt.gca()\n",
        "ax.set_xlabel(\"$n$\")\n",
        "ax.set_ylabel(\"$k$\")\n",
        "ax.grid()\n",
        "plt.plot(range(1, 51), matrix_small_k_k, color=\"blue\")\n",
        "plt.show()"
      ],
      "metadata": {
        "colab": {
          "base_uri": "https://localhost:8080/",
          "height": 525
        },
        "id": "ptrskWo8_Sk2",
        "outputId": "d2759825-1877-453e-db3f-6106e3861b77"
      },
      "execution_count": null,
      "outputs": [
        {
          "output_type": "stream",
          "name": "stdout",
          "text": [
            "k_matrix_small_k_10 = 3827.375494499667\n",
            "k_matrix_small_k_14 = 5409.243528855951\n",
            "k_matrix_small_k_50 = 75961.81154875284\n"
          ]
        },
        {
          "output_type": "display_data",
          "data": {
            "text/plain": [
              "<Figure size 640x480 with 1 Axes>"
            ],
            "image/png": "[encoded data removed]"
          },
          "metadata": {}
        }
      ]
    },
    {
      "cell_type": "markdown",
      "source": [
        "**Метод Гаусса**\n",
        "\n",
        "Метод Гаусса — это прямой метод решения СЛАУ. Он состоит из двух частей: прямой ход и обратный. Для начала мы \"спускаемся\" по матрице вниз, придавая ей треугольный вид, а затем \"поднимаемся\", по цепочке находя значения переменных.\n",
        "Конечно, с коэффициентами везёт далеко не всегда, и невероятно редко все они делятся друг на друга нацело, поэтому мы имеем дело с дробными числами. Однако у дробных чисел после запятой может быть вплоть до бесконечности значащих цифр, и какую-то часть нам придётся опускать в ходе наших компьютерных вычислений, от чего теряется точность и растёт погрешность. Так, при очень маленьких ведущих элементов уменьшается точность от деления, соответственно, метод делает больше ошибок в значениях. Из-за этого используем улучшенный метод Гаусса — метод Гаусса с выбором ведущего элемента. Теперь каждый раз мы не будем брать ведущий элемент, который просто стоит на нужном месте, а сначала сравним его со всеми элементами в этом столбце, но ниже по строчкам, и если найдём элемент больше по модулю, поменяем строчки местами. Так погрешность значительно уменьшится."
      ],
      "metadata": {
        "id": "770yIrFv7jSD"
      }
    },
    {
      "cell_type": "code",
      "source": [
        "def gauss(matrix):\n",
        "  n = len(matrix)\n",
        "  for col in range(n):\n",
        "    max_el = matrix[col][col]\n",
        "    row = col\n",
        "    for i in range(col + 1, len(matrix)):\n",
        "        if np.abs(matrix[i][col]) > np.abs(max_el):\n",
        "            max_el = matrix[i][col]\n",
        "            row = i\n",
        "    matrix[col], matrix[row] = np.copy(matrix[row]), np.copy(matrix[col])\n",
        "\n",
        "    for i in range(col + 1, n):\n",
        "      d = 1.0 * matrix[i][col] / (1.0 * matrix[col][col])\n",
        "      for j in range(col, n+1):\n",
        "        matrix[i][j] -= d*matrix[col][j]\n",
        "\n",
        "  x_found = np.array([0.0]*n)\n",
        "  for col in range(n-1, -1, -1):\n",
        "    sum = 0\n",
        "    for j in range(col + 1, n):\n",
        "      sum += matrix[col][j] * x_found[j]\n",
        "    x_found[col] = (matrix[col][n] - sum) / matrix[col][col]\n",
        "  return x_found"
      ],
      "metadata": {
        "id": "1o9Ubl0QZATq"
      },
      "execution_count": null,
      "outputs": []
    },
    {
      "cell_type": "markdown",
      "source": [
        "Проверим работу метода для начала на устойчивой матрице."
      ],
      "metadata": {
        "id": "9Tvn2uss_xGK"
      }
    },
    {
      "cell_type": "code",
      "source": [
        "n = 10\n",
        "a = matrix_small_k(n)\n",
        "x1 = x_initial(n)\n",
        "f1 = fx(n, a, x1)\n",
        "print(\"Answer is:\", gauss(create_test_matrix(a,f1)))\n",
        "print()\n",
        "n = 50\n",
        "a = matrix_small_k(n)\n",
        "x1 = x_initial(n)\n",
        "f1 = fx(n, a, x1)\n",
        "print(\"Answer is:\",gauss(create_test_matrix(a,f1)))\n",
        "print()\n",
        "n = 100\n",
        "a = matrix_small_k(n)\n",
        "x1 = x_initial(n)\n",
        "f1 = fx(n, a, x1)\n",
        "print(\"Answer is:\",gauss(create_test_matrix(a,f1)))"
      ],
      "metadata": {
        "colab": {
          "base_uri": "https://localhost:8080/"
        },
        "id": "1SngqlkPbLDy",
        "outputId": "71d64aa3-9862-4406-9e2f-62e0ed6e179c"
      },
      "execution_count": null,
      "outputs": [
        {
          "output_type": "stream",
          "name": "stdout",
          "text": [
            "Answer is: [ 1.  2.  3.  4.  5.  6.  7.  8.  9. 10.]\n",
            "\n",
            "Answer is: [ 1.  2.  3.  4.  5.  6.  7.  8.  9. 10. 11. 12. 13. 14. 15. 16. 17. 18.\n",
            " 19. 20. 21. 22. 23. 24. 25. 26. 27. 28. 29. 30. 31. 32. 33. 34. 35. 36.\n",
            " 37. 38. 39. 40. 41. 42. 43. 44. 45. 46. 47. 48. 49. 50.]\n",
            "\n",
            "Answer is: [  1.   2.   3.   4.   5.   6.   7.   8.   9.  10.  11.  12.  13.  14.\n",
            "  15.  16.  17.  18.  19.  20.  21.  22.  23.  24.  25.  26.  27.  28.\n",
            "  29.  30.  31.  32.  33.  34.  35.  36.  37.  38.  39.  40.  41.  42.\n",
            "  43.  44.  45.  46.  47.  48.  49.  50.  51.  52.  53.  54.  55.  56.\n",
            "  57.  58.  59.  60.  61.  62.  63.  64.  65.  66.  67.  68.  69.  70.\n",
            "  71.  72.  73.  74.  75.  76.  77.  78.  79.  80.  81.  82.  83.  84.\n",
            "  85.  86.  87.  88.  89.  90.  91.  92.  93.  94.  95.  96.  97.  98.\n",
            "  99. 100.]\n"
          ]
        }
      ]
    },
    {
      "cell_type": "markdown",
      "source": [
        "Теперь проверим на неустойчивых матрицах и сделаем вывод о том, что хоть прямые методы и находят ответ за конечное число итераций, погрешность при компьютерных вычислениях с увеличением размера матрицы и увеличением числа обусловленности растёт, и если на небольших матрицах ответ ещё более или менее похож на то, что мы хотели бы увидеть, при больших значениях $n$ узнать изначально загаданные решения не представляется возможным из-за сильных погрешностей."
      ],
      "metadata": {
        "id": "wJbm29LVBEN0"
      }
    },
    {
      "cell_type": "code",
      "source": [
        "n = 10\n",
        "a = matrix(n)\n",
        "x1 = x_initial(n)\n",
        "f1 = fx(n, a, x1)\n",
        "print(\"Answer is (matrix 10x10):\", gauss(create_test_matrix(a,f1)))\n",
        "print()\n",
        "n = 50\n",
        "a = matrix(n)\n",
        "x1 = x_initial(n)\n",
        "f1 = fx(n, a, x1)\n",
        "print(\"Answer is (matrix 50x50):\",gauss(create_test_matrix(a,f1)))\n",
        "print()\n",
        "n = 10\n",
        "a = hilbert(n)\n",
        "x1 = x_initial(n)\n",
        "f1 = fx(n, a, x1)\n",
        "print(\"Answer is (hilbert 10x10):\", gauss(create_test_matrix(a,f1)))\n",
        "print()\n",
        "n = 50\n",
        "a = hilbert(n)\n",
        "x1 = x_initial(n)\n",
        "f1 = fx(n, a, x1)\n",
        "print(\"Answer is (hilbert 50x50):\",gauss(create_test_matrix(a,f1)))"
      ],
      "metadata": {
        "colab": {
          "base_uri": "https://localhost:8080/"
        },
        "id": "KxzQc7ylBsk8",
        "outputId": "fea3ebde-67a5-4d8c-e039-6952e0da0627"
      },
      "execution_count": null,
      "outputs": [
        {
          "output_type": "stream",
          "name": "stdout",
          "text": [
            "Answer is (matrix 10x10): [0.99989292 1.99989292 2.99989292 3.99989292 4.99989292 5.99989292\n",
            " 6.99989292 7.99989292 8.99989292 9.99989292]\n",
            "\n",
            "Answer is (matrix 50x50): [-33.91176471 -32.91176471 -31.91176471 -30.91176471 -29.91176471\n",
            " -28.91176471 -27.91176471 -26.91176471 -25.91176471 -24.91176471\n",
            " -23.91176471 -22.91176471 -21.91176471 -20.91176471 -19.91176471\n",
            " -18.91176471 -17.91176471 -16.91176471 -15.91176471 -14.91176471\n",
            " -13.91176471 -12.91176471 -11.91176471 -10.91176471  -9.91176471\n",
            "  -8.91176471  -7.91176471  -6.91176471  -5.91176471  -4.91176471\n",
            "  -3.91176471  -2.91176471  -1.91176471  -0.91176471   0.08823529\n",
            "   1.08823529   2.08823529   3.08823529   4.08823529   5.08823529\n",
            "   6.08823529   7.08823529   8.08823529   9.08823529  10.08823529\n",
            "  11.08823529  12.08823529  13.08823529  14.08823529  15.08823529]\n",
            "\n",
            "Answer is (hilbert 10x10): [1.00000001 1.99999956 3.00000937 3.99991457 5.00040852 5.99887472\n",
            " 7.00184915 7.99821075 9.00094031 9.99979304]\n",
            "\n",
            "Answer is (hilbert 50x50): [ 9.99990447e-01  2.00181512e+00  2.91411982e+00  5.75825613e+00\n",
            " -1.42713314e+01  1.31549320e+02 -5.06300116e+02  1.36236631e+03\n",
            " -2.36125838e+03  3.03229991e+03 -3.54794789e+03  4.10867185e+03\n",
            " -2.89264957e+03  3.69100322e+02 -5.90220365e+02  2.66033196e+03\n",
            " -1.54057797e+03  7.60632591e+02 -4.13993736e+03  5.28635811e+03\n",
            " -1.72567131e+03  1.58323061e+03 -1.66546420e+03 -3.05377896e+03\n",
            " -3.24101627e+02  6.99343162e+03 -1.60390723e+03  2.86925979e+02\n",
            " -1.85532878e+03 -4.87431011e+03  5.83419630e+03 -3.19827738e+03\n",
            "  2.04724436e+03 -1.52145411e+03  4.93596812e+03 -7.89497953e+02\n",
            " -2.80190325e+03  9.86793846e+01 -4.09370173e+02 -3.22773422e+03\n",
            "  5.94399419e+03 -2.48884384e+03  6.85548763e+02  6.83036000e+02\n",
            "  2.02272507e+03 -2.24294467e+03 -3.60384811e+03  3.07903142e+03\n",
            "  1.32545805e+03 -9.87855537e+02]\n"
          ]
        }
      ]
    },
    {
      "cell_type": "markdown",
      "source": [
        "**$LU$-разложение**\n",
        "\n",
        "Ещё один прямой метод решения СЛАУ. Как понятно уже из названия, мы раскладываем нашу исходную матрицу коэффициентов, и раскладываем мы её на две треугольные матрицы: $L$ и $U$. По теореме если ни один главный минор квадратной матрицы $A$ (наша матрица коэффициентов) не равен нулю, то существуют нижняя треугольная матрица $L$ и верхняя треугольная матрица $U$ такие, что $A=L⋅U$:\n",
        "\n",
        "$\n",
        "\\begin{bmatrix}\n",
        "1& 0& ...& 0\\\\\n",
        "l_{21}& 1& ...& 0\\\\\n",
        "...& ...& ...& ...\\\\\n",
        "l_{n1}& l_{n2}& ...& 1\n",
        "\\end{bmatrix}\n",
        "\\begin{bmatrix}\n",
        "u_{11}& u_{12}& ...& u_{1n}\\\\\n",
        "0& u_{22}& ...& u_{2n}\\\\\n",
        "...& ...& ...& ...\\\\\n",
        "0& 0& ...& u_{nn}\n",
        "\\end{bmatrix}\n",
        "=\n",
        "\\begin{bmatrix}\n",
        "a_{11}& a_{12}& ...& a_{1n}\\\\\n",
        "a_{21}& a_{22}& ...& a_{2n}\\\\\n",
        "...& ...& ...& ...\\\\\n",
        "a_{n1}& a_{n2}& ...& a_{nn}\n",
        "\\end{bmatrix}\n",
        "$\n",
        "\n",
        "Но как найти матрицы $L$ и $U$? После перемножения матриц в общем виде мы получим систему уравнений, обобщив которую, мы придём к двум уравнениям — формулам получения определённых элементов искомых матриц, из которых их (матрицы) можно собрать.\n",
        "\n",
        "$u_{ij}=a_{ij}-∑^{i - 1}_{k=1}l_{ik}⋅u_{kj}, \\ \\ \\ \\ i ≤ j$\n",
        "\n",
        "$l_{ij}=\\frac{a_{ij} - ∑^{j - 1}_{k=1}l_{ik}⋅u_{kj}}{u_{jj}}, \\ \\ \\ \\ \\ \\ \\ \\ \\ \\  \\ \\ \\ \\ \\ i > j$\n",
        "\n",
        "Итак, наша матрица $A$ превращается в матрицу $LU$, и тогда стандартную запись СЛАУ $Ax=b$ можно записать как $LUx=b$. Введём новый вектор $y=(y_1, y_2, ..., y_n)^T$, и перепишем $LUx=b$ в виде системы:\n",
        "\n",
        "\\begin{equation*}\n",
        " \\begin{cases}\n",
        "   Ly = b,\n",
        "   \\\\\n",
        "   Ux = y\n",
        " \\end{cases}\n",
        "\\end{equation*}\n",
        "\n",
        "Нетрудно догадаться, как найти ответ, ведь обе матрицы в системе треугольные, и обе СЛАУ решаются по аналогии с обратным ходом метода Гаусса.\n",
        "\n",
        "$y_i=b_i-∑^{i}_{k = 1}l_{ik}⋅y_k$\n",
        "\n",
        "$x_i = \\frac{y_i - ∑^{n}_{k = i + 1}u_{ik}⋅x_k}{u_{ii}}$\n",
        "\n",
        "Причём $x$ ищем в обратном порядке.\n",
        "Для меньшего потребления памяти будем хранить разреженные матрицы $L$ и $U$ в разреженном виде с помощью инструментов библиотеки SciPy."
      ],
      "metadata": {
        "id": "AaeF3EQ1Mhaa"
      }
    },
    {
      "cell_type": "code",
      "source": [
        "import scipy.sparse as sparse\n",
        "\n",
        "def get_lu(m):\n",
        "  n = len(m)\n",
        "  l = np.array([[0.0]*n]*n)\n",
        "  u = np.array([[0.0]*n]*n)\n",
        "  for j in range(n):\n",
        "    l[j][j] = 1.0\n",
        "    for i in range(j + 1):\n",
        "      s = sum([l[i][k] * u[k][j] for k in range(i)])\n",
        "      u[i][j] = m[i][j] - s\n",
        "    for i in range(j, n):\n",
        "      s = sum([l[i][k] * u[k][j] for k in range(j)])\n",
        "      l[i][j] = (m[i][j] - s) / u[j][j]\n",
        "  return sparse.csr_matrix(l), sparse.csr_matrix(u)\n",
        "\n",
        "def solve_lu(m, f):\n",
        "  n = len(m)\n",
        "  l, u = get_lu(m)\n",
        "  y = np.array([0.0]*n)\n",
        "  for i in range(n):\n",
        "    s = sum(l[i, k] * y[k] for k in range(i))\n",
        "    y[i] = f[i] - s\n",
        "\n",
        "  x_found = np.array([0.0]*n)\n",
        "  for i in range(n-1, -1, -1):\n",
        "    s = sum(u[i, k]*x_found[k] for k in range(i + 1, n))\n",
        "    x_found[i] = 1.0 * (y[i] - s) / u[i, i]\n",
        "\n",
        "  return x_found\n",
        "\n",
        "n = 200\n",
        "a = matrix_small_k(n)\n",
        "x1 = x_initial(n)\n",
        "f1 = fx(n, a, x1)\n",
        "print(solve_lu(a, f1))"
      ],
      "metadata": {
        "colab": {
          "base_uri": "https://localhost:8080/"
        },
        "id": "KKtAsGjqSL3j",
        "outputId": "15387c2f-c4e6-404c-cdd7-64c3496763e7"
      },
      "execution_count": null,
      "outputs": [
        {
          "output_type": "stream",
          "name": "stdout",
          "text": [
            "[  1.   2.   3.   4.   5.   6.   7.   8.   9.  10.  11.  12.  13.  14.\n",
            "  15.  16.  17.  18.  19.  20.  21.  22.  23.  24.  25.  26.  27.  28.\n",
            "  29.  30.  31.  32.  33.  34.  35.  36.  37.  38.  39.  40.  41.  42.\n",
            "  43.  44.  45.  46.  47.  48.  49.  50.  51.  52.  53.  54.  55.  56.\n",
            "  57.  58.  59.  60.  61.  62.  63.  64.  65.  66.  67.  68.  69.  70.\n",
            "  71.  72.  73.  74.  75.  76.  77.  78.  79.  80.  81.  82.  83.  84.\n",
            "  85.  86.  87.  88.  89.  90.  91.  92.  93.  94.  95.  96.  97.  98.\n",
            "  99. 100. 101. 102. 103. 104. 105. 106. 107. 108. 109. 110. 111. 112.\n",
            " 113. 114. 115. 116. 117. 118. 119. 120. 121. 122. 123. 124. 125. 126.\n",
            " 127. 128. 129. 130. 131. 132. 133. 134. 135. 136. 137. 138. 139. 140.\n",
            " 141. 142. 143. 144. 145. 146. 147. 148. 149. 150. 151. 152. 153. 154.\n",
            " 155. 156. 157. 158. 159. 160. 161. 162. 163. 164. 165. 166. 167. 168.\n",
            " 169. 170. 171. 172. 173. 174. 175. 176. 177. 178. 179. 180. 181. 182.\n",
            " 183. 184. 185. 186. 187. 188. 189. 190. 191. 192. 193. 194. 195. 196.\n",
            " 197. 198. 199. 200.]\n"
          ]
        }
      ]
    },
    {
      "cell_type": "markdown",
      "source": [
        "**Итерационный метод Зейделя**\n",
        "\n",
        "Метод Зейделя — итерационный метод, который не гарантирует точного ответа за конечное число итераций.\n",
        "Переведём в $j$-м уравнении в правую часть все члены, содержацие $x_i$ для $i > j$. Тогда получим следующее:\n",
        "$(L + D)\\vec{x}=-U\\vec{x}+\\vec{b}$, где $U$ — верхняя треугольная часть $A$, $D$ — матрица нулей, в которой только диагональ заполнена соответствующими диагональными элементами исходной матрицы $A$, $L$ — нижняя треугольная часть $A$.\n",
        "Мы выбираем какое-то начальное приближение $\\vec{x}^{(0)}$, в моём случае я выбрала $\\frac{b_i}{a_{ii}}$, и запускаем итерационный процесс, который строится следующим образом:\n",
        "\n",
        "$(L+D)\\vec{x}^{(k + 1)}=-U\\vec{x}^{(k)}+\\vec{b}, \\ \\ \\ \\ \\ \\ \\ k = 0, 1, 2, ...$\n",
        "\n",
        "То есть, получаем формулу для $x^{(k+1)}_i$:\n",
        "\n",
        "$x^{(k+1)}_i=∑^{i-1}_{j=1}c_{ij}⋅x^{(k+1)}_j+∑^{n}_{j=1}c_{ij}⋅x^{(k)}_j+d_i, \\ \\ \\ \\ i=1, 2, ..., n$, в которой:\n",
        "\n",
        "$d_i = \\frac{b_i}{a_{ii}}, \\ \\ \\ \\ \\ \\ \\ i = 1, 2, ..., n$\n",
        "\n",
        "\\begin{equation*}\n",
        "c_{ij} =\n",
        " \\begin{cases}\n",
        "   -\\frac{a_{ij}}{a_{ii}}, \\ \\ \\ i ≠ j\n",
        "   \\\\\n",
        "   0, \\ \\ \\ \\ \\ \\ \\ \\ i = j\n",
        " \\end{cases}\n",
        " , \\ \\ \\ \\ i = 1, 2, ..., n\n",
        "\\end{equation*}"
      ],
      "metadata": {
        "id": "4maVD67XWaEM"
      }
    },
    {
      "cell_type": "code",
      "source": [
        "def seidel(a, b, eps, max_iter):\n",
        "  n = len(a)\n",
        "  x_found = ([0.0]*n)\n",
        "  for i in range(n):\n",
        "    x_found[i] = b[i] / a[i][i]\n",
        "  iter = 0\n",
        "  x_new = np.copy(x_found)\n",
        "  while np.max(np.abs(x_new - x_found)) <= eps:\n",
        "    iter += 1\n",
        "    x_new = np.copy(x_found)\n",
        "    for i in range(n):\n",
        "      s1 = sum(a[i][j] * x_new[j] for j in range(i))\n",
        "      s2 = sum(a[i][j] * x_found[j] for j in range(i + 1, n))\n",
        "      s = s1 + s2\n",
        "      x_new[i] = 1.0 * (b[i] - s) / a[i][i]\n",
        "    x_found = x_new\n",
        "    if iter>=max_iter:\n",
        "      break\n",
        "  return x_found, iter\n",
        "\n",
        "a = matrix_small_k(10)\n",
        "xs = x_initial(10)\n",
        "b = fx(10, a, xs)\n",
        "print(seidel(a, b, 1e-2, 10000))"
      ],
      "metadata": {
        "colab": {
          "base_uri": "https://localhost:8080/"
        },
        "id": "DK5Fp8qSvCMh",
        "outputId": "fdc5d961-a906-4451-df29-3202c1250589"
      },
      "execution_count": null,
      "outputs": [
        {
          "output_type": "stream",
          "name": "stdout",
          "text": [
            "(array([0.9999997, 1.9999997, 2.9999997, 3.9999997, 4.9999997, 5.9999997,\n",
            "       6.9999997, 7.9999997, 8.9999997, 9.9999997]), 10000)\n"
          ]
        }
      ]
    },
    {
      "cell_type": "markdown",
      "source": [
        "Теперь сравним прямые и итерационный методы по эффективности. Для этого измерим количество времени, которое необходимо для выполнения того или иного метода, и сведём в таблицу."
      ],
      "metadata": {
        "id": "op75NbaeWhRA"
      }
    },
    {
      "cell_type": "code",
      "source": [
        "n = 10\n",
        "a1 = hilbert(n)\n",
        "x1 = x_initial(n)\n",
        "f1 = fx(n, a1, x1)\n",
        "for_gauss1 = create_test_matrix(a1,f1)\n",
        "n = 50\n",
        "a2 = hilbert(n)\n",
        "x2 = x_initial(n)\n",
        "f2 = fx(n, a2, x2)\n",
        "for_gauss2 = create_test_matrix(a2,f2)\n",
        "n = 100\n",
        "a3 = hilbert(n)\n",
        "x3 = x_initial(n)\n",
        "f3 = fx(n, a3, x3)\n",
        "for_gauss3 = create_test_matrix(a3,f3)\n",
        "n = 200\n",
        "a4 = hilbert(n)\n",
        "x4 = x_initial(n)\n",
        "f4 = fx(n, a4, x4)\n",
        "for_gauss4 = create_test_matrix(a4,f4)\n",
        "\n",
        "n_array = np.array([1, 50, 100, 200])"
      ],
      "metadata": {
        "id": "h2yhF7ESGqQ0"
      },
      "execution_count": null,
      "outputs": []
    },
    {
      "cell_type": "code",
      "source": [
        "from prettytable import PrettyTable\n",
        "from timeit import default_timer as timer\n",
        "\n",
        "time = PrettyTable()\n",
        "time.field_names = [\"Method\", \"n = 10\", \"n = 50\", \"n = 100\", \"n = 200\"]\n",
        "\n",
        "t = timer()\n",
        "gauss(for_gauss1)\n",
        "g10 = timer() - t\n",
        "t = timer()\n",
        "gauss(for_gauss2)\n",
        "g50 = timer() - t\n",
        "t = timer()\n",
        "gauss(for_gauss3)\n",
        "g100 = timer() - t\n",
        "t = timer()\n",
        "gauss(for_gauss4)\n",
        "g200 = timer() - t\n",
        "g_array = np.array([g10, g50, g100, g200])\n",
        "time.add_row([\"Gauss\", g10, g50, g100, g200])\n",
        "\n",
        "t = timer()\n",
        "solve_lu(a1, f1)\n",
        "lu10 = timer() - t\n",
        "t = timer()\n",
        "solve_lu(a2, f2)\n",
        "lu50 = timer() - t\n",
        "t = timer()\n",
        "solve_lu(a3, f3)\n",
        "lu100 = timer() - t\n",
        "t = timer()\n",
        "solve_lu(a4, f4)\n",
        "lu200 = timer() - t\n",
        "lu_array = np.array([lu10, lu50, lu100, lu200])\n",
        "time.add_row([\"LU\", lu10, lu50, lu100, lu200])\n",
        "\n",
        "\n",
        "t = timer()\n",
        "seidel(a1, f1, 1e-7, 10000)\n",
        "s10 = timer() - t\n",
        "t = timer()\n",
        "seidel(a2, f2, 1e-7, 10000)\n",
        "s50 = timer() - t\n",
        "t = timer()\n",
        "seidel(a3, f3, 1e-7, 10000)\n",
        "s100 = timer() - t\n",
        "t = timer()\n",
        "seidel(a4, f4, 1e-7, 10000)\n",
        "s200 = timer() - t\n",
        "s_array = np.array([s10, s50, s100, s200])\n",
        "time.add_row([\"Seidel\", s10, s50, s100, s200])\n",
        "\n",
        "print(time)\n",
        "\n",
        "plt.title(\"Time\")\n",
        "ax = plt.gca()\n",
        "ax.set_xlabel(\"$n$\")\n",
        "ax.set_ylabel(\"$t$, sec\")\n",
        "ax.grid()\n",
        "\n",
        "plt.scatter(n_array, g_array, label=\"Gauss\", color=\"green\")\n",
        "plt.scatter(n_array, lu_array, label=\"LU\", color=\"orange\")\n",
        "plt.scatter(n_array, s_array, label=\"Seidel\", color=\"blue\")\n",
        "plt.plot(n_array, g_array, color=\"green\")\n",
        "plt.plot(n_array, lu_array, color=\"orange\")\n",
        "plt.plot(n_array, s_array, color=\"blue\")\n",
        "\n",
        "plt.legend()\n",
        "plt.show()"
      ],
      "metadata": {
        "colab": {
          "base_uri": "https://localhost:8080/",
          "height": 593
        },
        "id": "W74is3NCFa_Q",
        "outputId": "6e11c358-d251-4f67-8546-0fb4ed4dfe2e"
      },
      "execution_count": null,
      "outputs": [
        {
          "output_type": "stream",
          "name": "stdout",
          "text": [
            "+--------+-----------------------+---------------------+--------------------+--------------------+\n",
            "| Method |         n = 10        |        n = 50       |      n = 100       |      n = 200       |\n",
            "+--------+-----------------------+---------------------+--------------------+--------------------+\n",
            "| Gauss  | 0.0012259380000614328 |   0.16634182100006  | 1.1054463959999339 | 2.439787016000082  |\n",
            "|   LU   |  0.003658448999885877 | 0.07452899100007926 | 0.4612579430004189 | 2.5669534489998114 |\n",
            "| Seidel |   1.1523706690004474  |  13.745098022000093 | 51.95361143500031  | 203.1604649210003  |\n",
            "+--------+-----------------------+---------------------+--------------------+--------------------+\n"
          ]
        },
        {
          "output_type": "display_data",
          "data": {
            "text/plain": [
              "<Figure size 640x480 with 1 Axes>"
            ],
            "image/png": "[encoded data removed]"
          },
          "metadata": {}
        }
      ]
    },
    {
      "cell_type": "markdown",
      "source": [
        "Методы Гаусса и $LU$-разложения показывают практически одинаковые результаты, а метод Зейделя с ростом размера матрицы работает всё медленнее и медленнее. Однако в вопросах памяти особенно для больших матриц метод Зейделя гораздо эффективнее, так как ему не нужно производить дорогие операции по копированию строк или изменению элементов. Также итерационные методы могут настраиваться на нужную точность и мы тем самым всё-таки можем регулировать и время их работы в том числе, тогда как прямые методы всегда работают одинаково и на одних и тех же матрицах будут тратить одинаковое количество времени на решение."
      ],
      "metadata": {
        "id": "_Y0T07g-Q-pw"
      }
    }
  ]
}